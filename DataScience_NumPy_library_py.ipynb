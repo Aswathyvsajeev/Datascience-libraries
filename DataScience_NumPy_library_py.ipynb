{
  "nbformat": 4,
  "nbformat_minor": 0,
  "metadata": {
    "colab": {
      "name": "DataScience_NumPy library.py",
      "provenance": [],
      "collapsed_sections": [],
      "authorship_tag": "ABX9TyOTmmY0qiZ1vVKNV5NgKpaw",
      "include_colab_link": true
    },
    "kernelspec": {
      "name": "python3",
      "display_name": "Python 3"
    },
    "language_info": {
      "name": "python"
    }
  },
  "cells": [
    {
      "cell_type": "markdown",
      "metadata": {
        "id": "view-in-github",
        "colab_type": "text"
      },
      "source": [
        "<a href=\"https://colab.research.google.com/github/Aswathyvsajeev/Datascience-libraries/blob/main/DataScience_NumPy_library_py.ipynb\" target=\"_parent\"><img src=\"https://colab.research.google.com/assets/colab-badge.svg\" alt=\"Open In Colab\"/></a>"
      ]
    },
    {
      "cell_type": "markdown",
      "metadata": {
        "id": "oED8fNtKhT4y"
      },
      "source": [
        "# Numpy Array"
      ]
    },
    {
      "cell_type": "code",
      "metadata": {
        "colab": {
          "base_uri": "https://localhost:8080/"
        },
        "id": "wE14Z6sshWiD",
        "outputId": "9140eb86-6b95-4eb4-f51c-ad902fbaa54d"
      },
      "source": [
        "import numpy as np\n",
        "import time\n",
        "import sys\n",
        "#a is a two dimensional array\n",
        "a = np.array([[1,2,3],[4,5,6]])\n",
        "print(a)"
      ],
      "execution_count": 2,
      "outputs": [
        {
          "output_type": "stream",
          "text": [
            "[[1 2 3]\n",
            " [4 5 6]]\n"
          ],
          "name": "stdout"
        }
      ]
    },
    {
      "cell_type": "markdown",
      "metadata": {
        "id": "BDf2QR3Co12K"
      },
      "source": [
        "One advantage of numpy array over list is that it occupies less space compared to list"
      ]
    },
    {
      "cell_type": "code",
      "metadata": {
        "colab": {
          "base_uri": "https://localhost:8080/"
        },
        "id": "PfEnPRZGn10C",
        "outputId": "3c75ce2e-e98e-47a0-d744-63e513e0111f"
      },
      "source": [
        "#list\n",
        "s = range(1000)\n",
        "print(sys.getsizeof(5)*len(s))\n",
        "#numpy array\n",
        "d= np.arange(1000)\n",
        "print(d.size * d.itemsize)"
      ],
      "execution_count": null,
      "outputs": [
        {
          "output_type": "stream",
          "text": [
            "28000\n",
            "8000\n"
          ],
          "name": "stdout"
        }
      ]
    },
    {
      "cell_type": "code",
      "metadata": {
        "colab": {
          "base_uri": "https://localhost:8080/"
        },
        "id": "bt0zezx6o0nD",
        "outputId": "394a5da0-4262-4167-bb8a-14b098345a06"
      },
      "source": [
        "# List to numpy array\n",
        "my_list = [1,2,3]\n",
        "arr = np.array(my_list)\n",
        "#This is a one dimensional array\n",
        "arr"
      ],
      "execution_count": null,
      "outputs": [
        {
          "output_type": "execute_result",
          "data": {
            "text/plain": [
              "array([1, 2, 3])"
            ]
          },
          "metadata": {
            "tags": []
          },
          "execution_count": 5
        }
      ]
    },
    {
      "cell_type": "code",
      "metadata": {
        "colab": {
          "base_uri": "https://localhost:8080/"
        },
        "id": "FS-JE-PIKPzW",
        "outputId": "c6cf569b-0d14-4512-833d-db23843548f5"
      },
      "source": [
        "# Two -dimensional array\n",
        "my_mat = [[1,2,3],[4,5,6],[7,8,9]]\n",
        "test = np.array(my_mat)\n",
        "print(test)"
      ],
      "execution_count": null,
      "outputs": [
        {
          "output_type": "stream",
          "text": [
            "[[1 2 3]\n",
            " [4 5 6]\n",
            " [7 8 9]]\n"
          ],
          "name": "stdout"
        }
      ]
    },
    {
      "cell_type": "code",
      "metadata": {
        "colab": {
          "base_uri": "https://localhost:8080/"
        },
        "id": "6GhoSOnkjrj-",
        "outputId": "faaa5134-6bee-458f-bcc3-4d5a858668ab"
      },
      "source": [
        "print(test.data)\n",
        "print(test.shape)\n"
      ],
      "execution_count": null,
      "outputs": [
        {
          "output_type": "stream",
          "text": [
            "<memory at 0x7f6ce6b95750>\n"
          ],
          "name": "stdout"
        }
      ]
    },
    {
      "cell_type": "code",
      "metadata": {
        "colab": {
          "base_uri": "https://localhost:8080/"
        },
        "id": "HdynQ_T1LAbL",
        "outputId": "170213ee-bac4-4270-90c5-203fe9bcf278"
      },
      "source": [
        "#arange function to generate numpy array\n",
        "np.arange(0,10)\n",
        "#only passing value for mandatory parameter\n",
        "np.arange(9)\n",
        "#with step parameter\n",
        "np.arange(1,10,2)\n",
        "#with data type parameter\n",
        "np.arange(1,10,dtype=\"complex\")"
      ],
      "execution_count": 6,
      "outputs": [
        {
          "output_type": "execute_result",
          "data": {
            "text/plain": [
              "array([1.+0.j, 2.+0.j, 3.+0.j, 4.+0.j, 5.+0.j, 6.+0.j, 7.+0.j, 8.+0.j,\n",
              "       9.+0.j])"
            ]
          },
          "metadata": {
            "tags": []
          },
          "execution_count": 6
        }
      ]
    },
    {
      "cell_type": "code",
      "metadata": {
        "colab": {
          "base_uri": "https://localhost:8080/"
        },
        "id": "S-x8MKdKSc7y",
        "outputId": "935a659f-afa0-4052-8610-4f0a98083b8a"
      },
      "source": [
        "np.zeros(5)\n",
        "# Default data type is float .we can change it also.\n",
        "np.zeros(5,dtype = \"int\")\n",
        "# we can create two dimensional array using tuple or list\n",
        "np.zeros([3,4])"
      ],
      "execution_count": 11,
      "outputs": [
        {
          "output_type": "execute_result",
          "data": {
            "text/plain": [
              "array([[0., 0., 0., 0.],\n",
              "       [0., 0., 0., 0.],\n",
              "       [0., 0., 0., 0.]])"
            ]
          },
          "metadata": {
            "tags": []
          },
          "execution_count": 11
        }
      ]
    },
    {
      "cell_type": "code",
      "metadata": {
        "colab": {
          "base_uri": "https://localhost:8080/"
        },
        "id": "BQQkOuTahdRz",
        "outputId": "6178a23f-010e-48a2-c96a-c0d37e371447"
      },
      "source": [
        "#ones() function to create array of ones\n",
        "np.ones(8,dtype = \"int\")\n",
        "#multi-dimensional array\n",
        "np.ones((2,3))"
      ],
      "execution_count": 14,
      "outputs": [
        {
          "output_type": "execute_result",
          "data": {
            "text/plain": [
              "array([[1., 1., 1.],\n",
              "       [1., 1., 1.]])"
            ]
          },
          "metadata": {
            "tags": []
          },
          "execution_count": 14
        }
      ]
    },
    {
      "cell_type": "code",
      "metadata": {
        "colab": {
          "base_uri": "https://localhost:8080/"
        },
        "id": "b7OIqVWtTuAJ",
        "outputId": "688a1516-9e91-44a9-c180-cce5033f465f"
      },
      "source": [
        "#linspace function to create numpy array\n",
        "np.linspace(1,5,10)\n",
        "np.linspace(2,5,num = 5,retstep=True)\n",
        "np.linspace(1,100,endpoint=False,num =5,dtype=\"int\")"
      ],
      "execution_count": 18,
      "outputs": [
        {
          "output_type": "execute_result",
          "data": {
            "text/plain": [
              "array([ 1, 20, 40, 60, 80])"
            ]
          },
          "metadata": {
            "tags": []
          },
          "execution_count": 18
        }
      ]
    },
    {
      "cell_type": "code",
      "metadata": {
        "id": "XcTmQ1ImuCQw",
        "colab": {
          "base_uri": "https://localhost:8080/"
        },
        "outputId": "368a6de8-535b-46e1-93f1-d5de8392bbc2"
      },
      "source": [
        "#eye function to generate numpy array filled with zeros except in the k-th diagonal,whose value equal to 1.\n",
        "np.eye(3)\n",
        "np.eye(4, k =-1)"
      ],
      "execution_count": 3,
      "outputs": [
        {
          "output_type": "execute_result",
          "data": {
            "text/plain": [
              "array([[0., 0., 0., 0.],\n",
              "       [1., 0., 0., 0.],\n",
              "       [0., 1., 0., 0.],\n",
              "       [0., 0., 1., 0.]])"
            ]
          },
          "metadata": {
            "tags": []
          },
          "execution_count": 3
        }
      ]
    },
    {
      "cell_type": "code",
      "metadata": {
        "id": "j-nBth1BEv_k"
      },
      "source": [
        "help(np.random)"
      ],
      "execution_count": null,
      "outputs": []
    },
    {
      "cell_type": "code",
      "metadata": {
        "colab": {
          "base_uri": "https://localhost:8080/"
        },
        "id": "xd6AHKPxFH3D",
        "outputId": "349a27a1-3aa8-4561-d3b7-f060f4c23236"
      },
      "source": [
        "np.random.rand(3,2)"
      ],
      "execution_count": 6,
      "outputs": [
        {
          "output_type": "execute_result",
          "data": {
            "text/plain": [
              "array([[0.83467723, 0.07167791],\n",
              "       [0.26336046, 0.61495361],\n",
              "       [0.65634262, 0.8621567 ]])"
            ]
          },
          "metadata": {
            "tags": []
          },
          "execution_count": 6
        }
      ]
    },
    {
      "cell_type": "code",
      "metadata": {
        "colab": {
          "base_uri": "https://localhost:8080/"
        },
        "id": "n2WMwecHHG5l",
        "outputId": "c94ab309-8c48-42d1-8001-5789b5015339"
      },
      "source": [
        "np.random.randint(5,size = (2,4))"
      ],
      "execution_count": 8,
      "outputs": [
        {
          "output_type": "execute_result",
          "data": {
            "text/plain": [
              "array([[4, 4, 0, 3],\n",
              "       [0, 2, 3, 0]])"
            ]
          },
          "metadata": {
            "tags": []
          },
          "execution_count": 8
        }
      ]
    },
    {
      "cell_type": "code",
      "metadata": {
        "colab": {
          "base_uri": "https://localhost:8080/"
        },
        "id": "4qxh2cVmJhiI",
        "outputId": "e16c289a-18d6-43fa-dff0-6bbaaa856c98"
      },
      "source": [
        "# Attributes of numpy array\n",
        "a =  np.array([[3,2,1,5],[3,4,5,7]])\n",
        "print(a.ndim)\n",
        "print(a)"
      ],
      "execution_count": 14,
      "outputs": [
        {
          "output_type": "stream",
          "text": [
            "2\n",
            "[[3 2 1 5]\n",
            " [3 4 5 7]]\n"
          ],
          "name": "stdout"
        }
      ]
    },
    {
      "cell_type": "code",
      "metadata": {
        "colab": {
          "base_uri": "https://localhost:8080/"
        },
        "id": "2GqlIYPeKu-F",
        "outputId": "8ddce325-8218-4693-9057-5a6f6e3705cf"
      },
      "source": [
        "d = np.zeros((2,3,4),dtype = \"int\")\n",
        "print(b)\n",
        "print(b.size)\n",
        "print(b.dtype)\n",
        "print(d.itemsize)"
      ],
      "execution_count": 31,
      "outputs": [
        {
          "output_type": "stream",
          "text": [
            "[[[0. 0. 0. 0.]\n",
            "  [0. 0. 0. 0.]\n",
            "  [0. 0. 0. 0.]]\n",
            "\n",
            " [[0. 0. 0. 0.]\n",
            "  [0. 0. 0. 0.]\n",
            "  [0. 0. 0. 0.]]]\n",
            "24\n",
            "float64\n",
            "8\n"
          ],
          "name": "stdout"
        }
      ]
    },
    {
      "cell_type": "code",
      "metadata": {
        "colab": {
          "base_uri": "https://localhost:8080/"
        },
        "id": "ZtEfgNzhNmZZ",
        "outputId": "94956101-fbef-4b59-be6c-a1bc9fa33799"
      },
      "source": [
        "e = np.array([[2,3],[4,5]])\n",
        "print(e.dtype)\n",
        "print(e.itemsize)"
      ],
      "execution_count": 33,
      "outputs": [
        {
          "output_type": "stream",
          "text": [
            "int64\n",
            "8\n"
          ],
          "name": "stdout"
        }
      ]
    },
    {
      "cell_type": "code",
      "metadata": {
        "colab": {
          "base_uri": "https://localhost:8080/"
        },
        "id": "ixZf4-Ek6Hxj",
        "outputId": "1e6fa3d1-1a34-4230-c4f9-f92e8e5c9013"
      },
      "source": [
        "#datatype in numpy library\n",
        "x = np.float32(1)\n",
        "x.dtype\n"
      ],
      "execution_count": 4,
      "outputs": [
        {
          "output_type": "execute_result",
          "data": {
            "text/plain": [
              "dtype('float32')"
            ]
          },
          "metadata": {
            "tags": []
          },
          "execution_count": 4
        }
      ]
    },
    {
      "cell_type": "code",
      "metadata": {
        "colab": {
          "base_uri": "https://localhost:8080/"
        },
        "id": "ZVkn_ouI9KcU",
        "outputId": "762f3c21-4d15-4790-ff61-e1f7c3ebb6bf"
      },
      "source": [
        "#indexing in numpy array \n",
        "#one dimensional array indexing\n",
        "y = np.array([2,3,4])\n",
        "print(y[-1])\n",
        "z = np.array([[4,5,6],[1,2,3]])\n",
        "print(z)\n",
        "print(z[-1][2])\n"
      ],
      "execution_count": 11,
      "outputs": [
        {
          "output_type": "stream",
          "text": [
            "4\n",
            "[[4 5 6]\n",
            " [1 2 3]]\n",
            "3\n",
            "[2 3]\n"
          ],
          "name": "stdout"
        }
      ]
    }
  ]
}